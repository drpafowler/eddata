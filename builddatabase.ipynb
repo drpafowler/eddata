{
 "cells": [
  {
   "cell_type": "code",
   "execution_count": 31,
   "metadata": {},
   "outputs": [],
   "source": [
    "import pandas as pd\n",
    "import numpy as np\n",
    "import matplotlib.pyplot as plt\n",
    "import seaborn as sns\n",
    "import scipy.stats as stats\n",
    "import statsmodels.api as sm\n",
    "import os\n",
    "import sys\n"
   ]
  },
  {
   "cell_type": "code",
   "execution_count": 32,
   "metadata": {},
   "outputs": [
    {
     "name": "stderr",
     "output_type": "stream",
     "text": [
      "/tmp/ipykernel_554125/1414196001.py:12: DtypeWarning: Columns (7,8,12,13,14,15,16,17,18,19,20,21,22,23,24,25,26,27,28,29,30,31) have mixed types. Specify dtype option on import or set low_memory=False.\n",
      "  data = pd.read_csv(file_path)\n"
     ]
    },
    {
     "name": "stdout",
     "output_type": "stream",
     "text": [
      "   County Code  District Code  School Code  Filler  Test Year  \\\n",
      "0            0              0            0     NaN       2021   \n",
      "1            0              0            0     NaN       2021   \n",
      "2            0              0            0     NaN       2021   \n",
      "3            0              0            0     NaN       2021   \n",
      "4            0              0            0     NaN       2021   \n",
      "\n",
      "   Student Group ID Test Type Total Tested at Reporting Level  \\\n",
      "0                 1         B                          743626   \n",
      "1                 3         B                          375522   \n",
      "2                 4         B                          367928   \n",
      "3                 6         B                          628259   \n",
      "4                 7         B                           31747   \n",
      "\n",
      "  Total Tested with Scores at Reporting Level  Grade  ...  \\\n",
      "0                                      736192      3  ...   \n",
      "1                                      371742      3  ...   \n",
      "2                                      364279      3  ...   \n",
      "3                                      622358      3  ...   \n",
      "4                                       31503      3  ...   \n",
      "\n",
      "   Area 2 Percentage Above Standard Area 2 Percentage Near Standard  \\\n",
      "0                             12.98                           50.72   \n",
      "1                             10.93                           49.51   \n",
      "2                             15.08                           51.97   \n",
      "3                             16.21                           54.66   \n",
      "4                             33.84                           52.05   \n",
      "\n",
      "  Area 2 Percentage Below Standard Area 3 Percentage Above Standard  \\\n",
      "0                            36.30                            10.49   \n",
      "1                            39.57                             9.89   \n",
      "2                            32.95                            11.11   \n",
      "3                            29.13                            12.80   \n",
      "4                            14.11                            23.18   \n",
      "\n",
      "  Area 3 Percentage Near Standard Area 3 Percentage Below Standard  \\\n",
      "0                           71.78                            17.72   \n",
      "1                           71.55                            18.56   \n",
      "2                           72.02                            16.86   \n",
      "3                           72.67                            14.52   \n",
      "4                           69.33                             7.50   \n",
      "\n",
      "  Area 4 Percentage Above Standard Area 4 Percentage Near Standard  \\\n",
      "0                            16.57                           61.65   \n",
      "1                            15.53                           61.02   \n",
      "2                            17.64                           62.30   \n",
      "3                            20.29                           62.62   \n",
      "4                            37.74                           55.39   \n",
      "\n",
      "  Area 4 Percentage Below Standard Type ID  \n",
      "0                            21.77       4  \n",
      "1                            23.45       4  \n",
      "2                            20.06       4  \n",
      "3                            17.10       4  \n",
      "4                             6.87       4  \n",
      "\n",
      "[5 rows x 33 columns]\n"
     ]
    }
   ],
   "source": [
    "\n",
    "# Define the current working directory\n",
    "cwd = os.getcwd()\n",
    "\n",
    "# Define the save path and save file name\n",
    "SavePath = 'data/CalSchoolPerf/'\n",
    "SaveFile = 'sb_ca2021_all_csv_v2.csv'\n",
    "\n",
    "# Join the paths to create the full file path\n",
    "file_path = os.path.join(cwd, SavePath, SaveFile)\n",
    "\n",
    "# Read the CSV file into a DataFrame\n",
    "data = pd.read_csv(file_path)\n",
    "\n",
    "# Print the first few rows of the DataFrame\n",
    "print(data.head())\n"
   ]
  },
  {
   "cell_type": "code",
   "execution_count": 33,
   "metadata": {},
   "outputs": [
    {
     "name": "stdout",
     "output_type": "stream",
     "text": [
      "   County Code  District Code  School Code  Filler  Test Year  Type ID  \\\n",
      "0            0              0            0     NaN       2021        4   \n",
      "1            1              0            0     NaN       2021        5   \n",
      "2            1          10017            0     NaN       2021        6   \n",
      "3            1          10017       112607     NaN       2021        9   \n",
      "4            1          10017       124172     NaN       2021        9   \n",
      "\n",
      "           County Name                           District Name  \\\n",
      "0  State of California                                     NaN   \n",
      "1              Alameda                                     NaN   \n",
      "2              Alameda      Alameda County Office of Education   \n",
      "3              Alameda  Envision Academy for Arts & Technology   \n",
      "4              Alameda                         Yu Ming Charter   \n",
      "\n",
      "                              School Name Zip Code Unnamed: 10 Unnamed: 11  \\\n",
      "0                                     NaN      NaN         NaN         NaN   \n",
      "1                                     NaN      NaN         NaN         NaN   \n",
      "2                                     NaN      NaN         NaN         NaN   \n",
      "3  Envision Academy for Arts & Technology    94612         NaN         NaN   \n",
      "4                         Yu Ming Charter    94608         NaN         NaN   \n",
      "\n",
      "  Unnamed: 12  Unnamed: 13  \n",
      "0         NaN          NaN  \n",
      "1         NaN          NaN  \n",
      "2         NaN          NaN  \n",
      "3         NaN          NaN  \n",
      "4         NaN          NaN  \n"
     ]
    }
   ],
   "source": [
    "# Define the save path and save file name\n",
    "SavePath = 'data/CalSchoolPerf/'\n",
    "SaveFile = 'sb_ca2021entities_csv.csv'\n",
    "\n",
    "# Join the paths to create the full file path\n",
    "file_path = os.path.join(cwd, SavePath, SaveFile)\n",
    "\n",
    "# Read the CSV file into a DataFrame\n",
    "entitiy = pd.read_csv(file_path)\n",
    "\n",
    "# Print the first few rows of the DataFrame\n",
    "print(entitiy.head())"
   ]
  },
  {
   "cell_type": "code",
   "execution_count": 34,
   "metadata": {},
   "outputs": [
    {
     "name": "stdout",
     "output_type": "stream",
     "text": [
      "   County Code  District Code  School Code  Filler  Test Year  \\\n",
      "0            0              0            0     NaN       2021   \n",
      "1            0              0            0     NaN       2021   \n",
      "2            0              0            0     NaN       2021   \n",
      "3            0              0            0     NaN       2021   \n",
      "4            0              0            0     NaN       2021   \n",
      "\n",
      "   Student Group ID Test Type Total Tested at Reporting Level  \\\n",
      "0                 1         B                          743626   \n",
      "1                 3         B                          375522   \n",
      "2                 4         B                          367928   \n",
      "3                 6         B                          628259   \n",
      "4                 7         B                           31747   \n",
      "\n",
      "  Total Tested with Scores at Reporting Level  Grade  ...  \\\n",
      "0                                      736192      3  ...   \n",
      "1                                      371742      3  ...   \n",
      "2                                      364279      3  ...   \n",
      "3                                      622358      3  ...   \n",
      "4                                       31503      3  ...   \n",
      "\n",
      "   Area 3 Percentage Near Standard Area 3 Percentage Below Standard  \\\n",
      "0                            71.78                            17.72   \n",
      "1                            71.55                            18.56   \n",
      "2                            72.02                            16.86   \n",
      "3                            72.67                            14.52   \n",
      "4                            69.33                             7.50   \n",
      "\n",
      "  Area 4 Percentage Above Standard Area 4 Percentage Near Standard  \\\n",
      "0                            16.57                           61.65   \n",
      "1                            15.53                           61.02   \n",
      "2                            17.64                           62.30   \n",
      "3                            20.29                           62.62   \n",
      "4                            37.74                           55.39   \n",
      "\n",
      "  Area 4 Percentage Below Standard Type ID          County Name District Name  \\\n",
      "0                            21.77       4  State of California           NaN   \n",
      "1                            23.45       4  State of California           NaN   \n",
      "2                            20.06       4  State of California           NaN   \n",
      "3                            17.10       4  State of California           NaN   \n",
      "4                             6.87       4  State of California           NaN   \n",
      "\n",
      "  School Name Zip Code  \n",
      "0         NaN      NaN  \n",
      "1         NaN      NaN  \n",
      "2         NaN      NaN  \n",
      "3         NaN      NaN  \n",
      "4         NaN      NaN  \n",
      "\n",
      "[5 rows x 37 columns]\n"
     ]
    }
   ],
   "source": [
    "# Merge the dataframes on 'County Code', 'District Code', and 'School Code'\n",
    "merged_data = data.merge(entitiy[['County Code', 'District Code', 'School Code', 'County Name', 'District Name', 'School Name', 'Zip Code']],\n",
    "                         on=['County Code', 'District Code', 'School Code'],\n",
    "                         how='left')\n",
    "\n",
    "# Print the first few rows of the merged dataframe\n",
    "print(merged_data.head())"
   ]
  },
  {
   "cell_type": "code",
   "execution_count": 35,
   "metadata": {},
   "outputs": [
    {
     "name": "stdout",
     "output_type": "stream",
     "text": [
      "      County Code  District Code  School Code  Filler  Test Year  \\\n",
      "1900            1          10017       112607     NaN       2021   \n",
      "1901            1          10017       112607     NaN       2021   \n",
      "1902            1          10017       112607     NaN       2021   \n",
      "1903            1          10017       112607     NaN       2021   \n",
      "1904            1          10017       112607     NaN       2021   \n",
      "\n",
      "      Student Group ID Test Type Total Tested at Reporting Level  \\\n",
      "1900                 1         B                             108   \n",
      "1901                 3         B                              56   \n",
      "1902                 4         B                              52   \n",
      "1903                 6         B                              93   \n",
      "1904                 7         B                               *   \n",
      "\n",
      "     Total Tested with Scores at Reporting Level  Grade  ...  \\\n",
      "1900                                         106      6  ...   \n",
      "1901                                          56      6  ...   \n",
      "1902                                          50      6  ...   \n",
      "1903                                          91      6  ...   \n",
      "1904                                           *      6  ...   \n",
      "\n",
      "      Area 3 Percentage Near Standard Area 3 Percentage Below Standard  \\\n",
      "1900                                *                                *   \n",
      "1901                                *                                *   \n",
      "1902                                *                                *   \n",
      "1903                                *                                *   \n",
      "1904                                *                                *   \n",
      "\n",
      "     Area 4 Percentage Above Standard Area 4 Percentage Near Standard  \\\n",
      "1900                                *                               *   \n",
      "1901                                *                               *   \n",
      "1902                                *                               *   \n",
      "1903                                *                               *   \n",
      "1904                                *                               *   \n",
      "\n",
      "     Area 4 Percentage Below Standard Type ID County Name  \\\n",
      "1900                                *       9     Alameda   \n",
      "1901                                *       9     Alameda   \n",
      "1902                                *       9     Alameda   \n",
      "1903                                *       9     Alameda   \n",
      "1904                                *       9     Alameda   \n",
      "\n",
      "                               District Name  \\\n",
      "1900  Envision Academy for Arts & Technology   \n",
      "1901  Envision Academy for Arts & Technology   \n",
      "1902  Envision Academy for Arts & Technology   \n",
      "1903  Envision Academy for Arts & Technology   \n",
      "1904  Envision Academy for Arts & Technology   \n",
      "\n",
      "                                 School Name Zip Code  \n",
      "1900  Envision Academy for Arts & Technology    94612  \n",
      "1901  Envision Academy for Arts & Technology    94612  \n",
      "1902  Envision Academy for Arts & Technology    94612  \n",
      "1903  Envision Academy for Arts & Technology    94612  \n",
      "1904  Envision Academy for Arts & Technology    94612  \n",
      "\n",
      "[5 rows x 37 columns]\n"
     ]
    }
   ],
   "source": [
    "# Delete all rows where 'School Code' is 0\n",
    "merged_data = merged_data[merged_data['School Code'] != 0]\n",
    "\n",
    "# Print the first few rows of the updated dataframe to verify\n",
    "print(merged_data.head())"
   ]
  },
  {
   "cell_type": "code",
   "execution_count": 36,
   "metadata": {},
   "outputs": [
    {
     "name": "stdout",
     "output_type": "stream",
     "text": [
      "Rows with 'County Code' equal to 0: 0\n",
      "Rows with 'District Code' equal to 0: 0\n"
     ]
    }
   ],
   "source": [
    "# Check for rows where 'County Code' or 'District Code' is equal to 0\n",
    "county_code_zero = merged_data[merged_data['County Code'] == 0]\n",
    "district_code_zero = merged_data[merged_data['District Code'] == 0]\n",
    "\n",
    "# Print the number of rows found\n",
    "print(f\"Rows with 'County Code' equal to 0: {len(county_code_zero)}\")\n",
    "print(f\"Rows with 'District Code' equal to 0: {len(district_code_zero)}\")"
   ]
  },
  {
   "cell_type": "code",
   "execution_count": 37,
   "metadata": {},
   "outputs": [
    {
     "name": "stdout",
     "output_type": "stream",
     "text": [
      "Number of duplicated rows: 0\n",
      "Empty DataFrame\n",
      "Columns: [County Code, District Code, School Code, Filler, Test Year, Student Group ID, Test Type, Total Tested at Reporting Level, Total Tested with Scores at Reporting Level, Grade, Test ID, Students Enrolled, Students Tested, Mean Scale Score, Percentage Standard Exceeded, Percentage Standard Met, Percentage Standard Met and Above, Percentage Standard Nearly Met, Percentage Standard Not Met, Students with Scores, Area 1 Percentage Above Standard, Area 1 Percentage Near Standard, Area 1 Percentage Below Standard, Area 2 Percentage Above Standard, Area 2 Percentage Near Standard, Area 2 Percentage Below Standard, Area 3 Percentage Above Standard, Area 3 Percentage Near Standard, Area 3 Percentage Below Standard, Area 4 Percentage Above Standard, Area 4 Percentage Near Standard, Area 4 Percentage Below Standard, Type ID, County Name, District Name, School Name, Zip Code]\n",
      "Index: []\n",
      "\n",
      "[0 rows x 37 columns]\n"
     ]
    }
   ],
   "source": [
    "# Check for duplicated rows\n",
    "duplicated_rows = merged_data[merged_data.duplicated()]\n",
    "\n",
    "# Print the number of duplicated rows found\n",
    "print(f\"Number of duplicated rows: {len(duplicated_rows)}\")\n",
    "\n",
    "# Print the duplicated rows\n",
    "print(duplicated_rows)"
   ]
  },
  {
   "cell_type": "code",
   "execution_count": 38,
   "metadata": {},
   "outputs": [
    {
     "name": "stdout",
     "output_type": "stream",
     "text": [
      "      County Code  District Code  School Code  Filler  Test Year  \\\n",
      "1900            1          10017       112607     NaN       2021   \n",
      "1933            1          10017       112607     NaN       2021   \n",
      "1965            1          10017       112607     NaN       2021   \n",
      "1999            1          10017       112607     NaN       2021   \n",
      "2033            1          10017       112607     NaN       2021   \n",
      "\n",
      "      Student Group ID Test Type Total Tested at Reporting Level  \\\n",
      "1900                 1         B                             108   \n",
      "1933                 1         B                             108   \n",
      "1965                 1         B                             108   \n",
      "1999                 1         B                             108   \n",
      "2033                 1         B                             111   \n",
      "\n",
      "     Total Tested with Scores at Reporting Level  Grade  ...  \\\n",
      "1900                                         106      6  ...   \n",
      "1933                                         106      7  ...   \n",
      "1965                                         106     11  ...   \n",
      "1999                                         106     13  ...   \n",
      "2033                                         105      6  ...   \n",
      "\n",
      "      Area 3 Percentage Near Standard Area 3 Percentage Below Standard  \\\n",
      "1900                                *                                *   \n",
      "1933                                *                                *   \n",
      "1965                            75.41                             8.20   \n",
      "1999                            71.70                            16.04   \n",
      "2033                                *                                *   \n",
      "\n",
      "     Area 4 Percentage Above Standard Area 4 Percentage Near Standard  \\\n",
      "1900                                *                               *   \n",
      "1933                                *                               *   \n",
      "1965                            26.23                           65.57   \n",
      "1999                            19.81                           62.26   \n",
      "2033                                *                               *   \n",
      "\n",
      "     Area 4 Percentage Below Standard Type ID County Name  \\\n",
      "1900                                *       9     Alameda   \n",
      "1933                                *       9     Alameda   \n",
      "1965                             8.20       9     Alameda   \n",
      "1999                            17.92       9     Alameda   \n",
      "2033                                *       9     Alameda   \n",
      "\n",
      "                               District Name  \\\n",
      "1900  Envision Academy for Arts & Technology   \n",
      "1933  Envision Academy for Arts & Technology   \n",
      "1965  Envision Academy for Arts & Technology   \n",
      "1999  Envision Academy for Arts & Technology   \n",
      "2033  Envision Academy for Arts & Technology   \n",
      "\n",
      "                                 School Name Zip Code  \n",
      "1900  Envision Academy for Arts & Technology    94612  \n",
      "1933  Envision Academy for Arts & Technology    94612  \n",
      "1965  Envision Academy for Arts & Technology    94612  \n",
      "1999  Envision Academy for Arts & Technology    94612  \n",
      "2033  Envision Academy for Arts & Technology    94612  \n",
      "\n",
      "[5 rows x 37 columns]\n"
     ]
    }
   ],
   "source": [
    "# Drop all rows where 'Student Group ID' is not equal to 1\n",
    "# Student Group ID of 1 corresponds to all students\n",
    "merged_data = merged_data[merged_data['Student Group ID'] == 1]\n",
    "\n",
    "# Print the first few rows of the updated dataframe to verify\n",
    "print(merged_data.head())"
   ]
  },
  {
   "cell_type": "code",
   "execution_count": 39,
   "metadata": {},
   "outputs": [
    {
     "name": "stdout",
     "output_type": "stream",
     "text": [
      "{'int64': ['County Code', 'District Code', 'School Code', 'Test Year', 'Student Group ID', 'Grade', 'Test ID', 'Type ID'], 'float64': ['Filler'], 'object': ['Test Type', 'Total Tested at Reporting Level', 'Total Tested with Scores at Reporting Level', 'Students Enrolled', 'Students Tested', 'Mean Scale Score', 'Percentage Standard Exceeded', 'Percentage Standard Met', 'Percentage Standard Met and Above', 'Percentage Standard Nearly Met', 'Percentage Standard Not Met', 'Students with Scores', 'Area 1 Percentage Above Standard', 'Area 1 Percentage Near Standard', 'Area 1 Percentage Below Standard', 'Area 2 Percentage Above Standard', 'Area 2 Percentage Near Standard', 'Area 2 Percentage Below Standard', 'Area 3 Percentage Above Standard', 'Area 3 Percentage Near Standard', 'Area 3 Percentage Below Standard', 'Area 4 Percentage Above Standard', 'Area 4 Percentage Near Standard', 'Area 4 Percentage Below Standard', 'County Name', 'District Name', 'School Name', 'Zip Code']}\n"
     ]
    }
   ],
   "source": [
    "# List columns by data type\n",
    "columns_by_type = {\n",
    "    'int64': merged_data.select_dtypes(include='int64').columns.tolist(),\n",
    "    'float64': merged_data.select_dtypes(include='float64').columns.tolist(),\n",
    "    'object': merged_data.select_dtypes(include='object').columns.tolist()\n",
    "}\n",
    "\n",
    "print(columns_by_type)"
   ]
  },
  {
   "cell_type": "code",
   "execution_count": null,
   "metadata": {},
   "outputs": [
    {
     "name": "stdout",
     "output_type": "stream",
     "text": [
      "     GEOID_ZCTA5_20 NAMELSAD_ZCTA5_20  GEOID_TRACT_20\n",
      "3268          00601       ZCTA5 00601     72001956300\n",
      "3269          00601       ZCTA5 00601     72001956400\n",
      "3270          00601       ZCTA5 00601     72001956500\n",
      "3271          00601       ZCTA5 00601     72001956600\n",
      "3272          00601       ZCTA5 00601     72001956700\n"
     ]
    }
   ],
   "source": [
    "# Define the save path and save file name\n",
    "SavePath = 'data/'\n",
    "SaveFile = 'zctacensus.csv'\n",
    "\n",
    "# Join the paths to create the full file path\n",
    "file_path = os.path.join(cwd, SavePath, SaveFile)\n",
    "\n",
    "# Read the CSV file into a DataFrame\n",
    "zcta_census = pd.read_csv(file_path)\n",
    "\n",
    "# Drop all rows where GEOID_ZCTA5_20 is NaN\n",
    "zcta_census = zcta_census.dropna(subset=['GEOID_ZCTA5_20'])   \n",
    "\n",
    "# Drop unnecessary columns\n",
    "zcta_census = zcta_census[['GEOID_ZCTA5_20', 'NAMELSAD_ZCTA5_20', 'GEOID_TRACT_20']]\n",
    "\n",
    "# Fix the data type of 'GEOID_ZCTA5_20'\n",
    "zcta_census['GEOID_ZCTA5_20'] = zcta_census['GEOID_ZCTA5_20'].apply(lambda x: f\"{int(x):05d}\").astype(str)\n",
    "\n",
    "# Print the first few rows of the DataFrame\n",
    "print(zcta_census.head())"
   ]
  },
  {
   "cell_type": "code",
   "execution_count": null,
   "metadata": {},
   "outputs": [],
   "source": []
  },
  {
   "cell_type": "code",
   "execution_count": 41,
   "metadata": {},
   "outputs": [
    {
     "name": "stdout",
     "output_type": "stream",
     "text": [
      "County Code                                        0\n",
      "District Code                                      0\n",
      "School Code                                        0\n",
      "Filler                                         85805\n",
      "Test Year                                          0\n",
      "Student Group ID                                   0\n",
      "Test Type                                          0\n",
      "Total Tested at Reporting Level                    0\n",
      "Total Tested with Scores at Reporting Level        0\n",
      "Grade                                              0\n",
      "Test ID                                            0\n",
      "Students Enrolled                                  0\n",
      "Students Tested                                    0\n",
      "Mean Scale Score                               64673\n",
      "Percentage Standard Exceeded                   57107\n",
      "Percentage Standard Met                        57107\n",
      "Percentage Standard Met and Above              57107\n",
      "Percentage Standard Nearly Met                 57107\n",
      "Percentage Standard Not Met                    57107\n",
      "Students with Scores                               0\n",
      "Area 1 Percentage Above Standard               57107\n",
      "Area 1 Percentage Near Standard                57107\n",
      "Area 1 Percentage Below Standard               57107\n",
      "Area 2 Percentage Above Standard               57107\n",
      "Area 2 Percentage Near Standard                57107\n",
      "Area 2 Percentage Below Standard               57107\n",
      "Area 3 Percentage Above Standard               57107\n",
      "Area 3 Percentage Near Standard                57107\n",
      "Area 3 Percentage Below Standard               57107\n",
      "Area 4 Percentage Above Standard               57107\n",
      "Area 4 Percentage Near Standard                57107\n",
      "Area 4 Percentage Below Standard               57107\n",
      "Type ID                                            0\n",
      "County Name                                        0\n",
      "District Name                                      0\n",
      "School Name                                        0\n",
      "Zip Code                                           0\n",
      "dtype: int64\n"
     ]
    }
   ],
   "source": [
    "# Check for null values in each column\n",
    "null_values = merged_data.isnull().sum()\n",
    "\n",
    "# Print the columns with their respective count of null values\n",
    "print(null_values)"
   ]
  },
  {
   "cell_type": "code",
   "execution_count": 42,
   "metadata": {},
   "outputs": [
    {
     "name": "stdout",
     "output_type": "stream",
     "text": [
      "Data saved to /home/philip/DataAnalytics/eddata/data/merged.csv\n"
     ]
    }
   ],
   "source": [
    "# Define the save path and save file name for the merged data\n",
    "merged_save_path = os.path.join(cwd, SavePath, 'merged.csv')\n",
    "\n",
    "# Save the merged dataframe to a CSV file\n",
    "merged_data.to_csv(merged_save_path, index=False)\n",
    "\n",
    "print(f\"Data saved to {merged_save_path}\")"
   ]
  }
 ],
 "metadata": {
  "kernelspec": {
   "display_name": ".venv",
   "language": "python",
   "name": "python3"
  },
  "language_info": {
   "codemirror_mode": {
    "name": "ipython",
    "version": 3
   },
   "file_extension": ".py",
   "mimetype": "text/x-python",
   "name": "python",
   "nbconvert_exporter": "python",
   "pygments_lexer": "ipython3",
   "version": "3.12.3"
  }
 },
 "nbformat": 4,
 "nbformat_minor": 2
}
